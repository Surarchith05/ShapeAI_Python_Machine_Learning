{
  "nbformat": 4,
  "nbformat_minor": 0,
  "metadata": {
    "colab": {
      "name": "Yagna_Surarchitha.ipynb",
      "provenance": []
    },
    "kernelspec": {
      "name": "python3",
      "display_name": "Python 3"
    },
    "language_info": {
      "name": "python"
    }
  },
  "cells": [
    {
      "cell_type": "code",
      "metadata": {
        "colab": {
          "base_uri": "https://localhost:8080/"
        },
        "id": "612vpDyOzPtL",
        "outputId": "c4268230-28f6-4f51-c804-7ea0a3967105"
      },
      "source": [
        "import numpy as np\n",
        "import pandas as pd\n",
        "import sklearn\n",
        "from sklearn.datasets import load_boston\n",
        "df=load_boston()\n",
        "boston=pd.DataFrame(df.data, columns=df.feature_names)\n",
        "boston['MEDV']= df.target\n",
        "boston.isnull().sum()\n",
        "from sklearn.model_selection import train_test_split\n",
        "X=boston.drop('MEDV', axis=1)\n",
        "Y=boston['MEDV']\n",
        "X_train, X_test, Y_train, Y_test=train_test_split(X,Y, test_size=0.15, random_state=5)\n",
        "from sklearn.linear_model import LinearRegression\n",
        "from sklearn.metrics import mean_squared_error\n",
        "lin_model=LinearRegression()\n",
        "lin_model.fit(X_train, Y_train)\n",
        "y_train_predict=lin_model.predict(X_train)\n",
        "rmse=(np.sqrt(mean_squared_error(Y_train, y_train_predict)))\n",
        "print(\"The model performance for the training set\")\n",
        "print('RMSE is'.format(rmse))\n",
        "print(\"\\n\")\n",
        "y_test_predict=lin_model.predict(X_test)\n",
        "rmse=(np.sqrt(mean_squared_error(Y_test, y_test_predict)))\n",
        "print(\"The model performance for the testing set\")\n",
        "print('RMSE is'.format(rmse))"
      ],
      "execution_count": 2,
      "outputs": [
        {
          "output_type": "stream",
          "text": [
            "The model performance for the training set\n",
            "RMSE is\n",
            "\n",
            "\n",
            "The model performance for the testing set\n",
            "RMSE is\n"
          ],
          "name": "stdout"
        }
      ]
    }
  ]
}